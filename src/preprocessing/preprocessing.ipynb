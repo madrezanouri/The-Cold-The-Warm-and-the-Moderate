{
 "cells": [
  {
   "cell_type": "code",
   "execution_count": 1,
   "id": "e5674c35-de9a-4bed-a94e-027cdbb3c044",
   "metadata": {},
   "outputs": [],
   "source": [
    "import pandas as pd\n",
    "import numpy as np\n",
    "import matplotlib.pyplot as plt\n",
    "import seaborn as sns\n",
    "\n",
    "#Read your dataset\n",
    "\n",
    "train_data = pd.read_csv ('food_nutrient_temperament.csv', sep=',')\n",
    "train_data.columns"
   ]
  },
  {
   "cell_type": "code",
   "execution_count": null,
   "id": "a123650c-4665-456d-9f95-35cff76006be",
   "metadata": {},
   "outputs": [],
   "source": [
    "train_data.shape"
   ]
  },
  {
   "cell_type": "code",
   "execution_count": null,
   "id": "dcc62270-465a-46fe-9689-0491501d08c7",
   "metadata": {},
   "outputs": [],
   "source": [
    "#make columns names shorter (Optional)\n",
    "\n",
    "column_name_mapping = {\n",
    "    'fdc_id': 'fdc_id',\t\n",
    "    'food_ description': 'food',\n",
    "    'protein (g)': 'protein',\n",
    "    'total_lipid_fat (g)': 'lipid',\n",
    "    'carbohydrate_by difference (g)': 'carbs',\t\n",
    "    'energy (KCAL)': 'energy',\n",
    "    'alcohol_ethyl (g)': 'alcohol',\n",
    "    'water (g)': 'water',\n",
    "    'caffeine (mg)': 'caff',\n",
    "    'total_sugars (g)': 'sugar',\n",
    "    'calcium_ca (mg)': 'ca',\n",
    "    'magnesium_mg (mg)': 'mg',\n",
    "    'phosphorus_p (mg)': 'p',\n",
    "    'potassium_k (mg)': 'k',\n",
    "    'sodium_na (mg)': 'sod',\n",
    "    'zinc_zn (mg)': 'zn',\n",
    "    'copper_cu (mg)': 'cu',\n",
    "    'vitamin_a, rae (ug)': 'vit_a',\n",
    "    'vitamin_d (d2 + d3) (ug)': 'vit_d',\t\n",
    "    'vitamin_c, total ascorbic acid (mg)': 'vit_c',\n",
    "    'thiamin (mg)': 'thiamin',\n",
    "    'riboflavin (mg)': 'riboflavin',\n",
    "    'vitamin_b-6 (mg)': 'vit_b6',\n",
    "    'biotin (ug)': 'biotin',\n",
    "    'vitamin_b-12 (ug)': 'vit_b12',\n",
    "    'vitamin_k (phylloquinone) (ug)': 'vit_k',\t\n",
    "    'folic_acid (ug)': 'folic',\n",
    "    'vitamin_e, added (mg)': 'vit_e',\n",
    "    'vitamin_b-12 added (ug)': 'vit_b12',\n",
    "    'cholesterol (mg)': 'choles',\n",
    "    'Temperament': 'temp',\n",
    "\n",
    "    \n",
    "}\n",
    "\n",
    "train_data.rename(columns=column_name_mapping, inplace=True)"
   ]
  },
  {
   "cell_type": "code",
   "execution_count": null,
   "id": "8490d6a2-ae6c-4fe0-b985-b3b04540f4c8",
   "metadata": {},
   "outputs": [],
   "source": []
  }
 ],
 "metadata": {
  "kernelspec": {
   "display_name": "Python [conda env:base] *",
   "language": "python",
   "name": "conda-base-py"
  },
  "language_info": {
   "codemirror_mode": {
    "name": "ipython",
    "version": 3
   },
   "file_extension": ".py",
   "mimetype": "text/x-python",
   "name": "python",
   "nbconvert_exporter": "python",
   "pygments_lexer": "ipython3",
   "version": "3.13.5"
  }
 },
 "nbformat": 4,
 "nbformat_minor": 5
}
