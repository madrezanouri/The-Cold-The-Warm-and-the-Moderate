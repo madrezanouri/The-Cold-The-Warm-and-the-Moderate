{
 "cells": [
  {
   "cell_type": "code",
   "execution_count": null,
   "id": "e5674c35-de9a-4bed-a94e-027cdbb3c044",
   "metadata": {},
   "outputs": [],
   "source": [
    "#Pivot the Dataframe to create a Heatmap\n",
    "\n",
    "heatmap_data = train_data.pivot_table('vit_c', 'temp')\n",
    "\n",
    "#Create the heatmap\n",
    "\n",
    "plt.figure(figsize=(8, 6))\n",
    "sns.heatmap(heatmap_data, annot=True, fmt='g', cmap='coolwarm', cbar=True)\n",
    "plt.title('vitamin C vs temp')\n",
    "plt.xlabel('vit_c')\n",
    "plt.ylabel('temp')\n",
    "plt.show()"
   ]
  },
  {
   "cell_type": "code",
   "execution_count": null,
   "id": "40ebb91b-3f55-46db-8bec-b43009a05fa9",
   "metadata": {},
   "outputs": [],
   "source": [
    "import pandas as pd\n",
    "import matplotlib.pyplot as plt\n",
    "from sklearn.decomposition import PCA\n",
    "from sklearn.preprocessing import StandardScaler\n",
    "\n",
    "df = pd.read_csv('food_nutrient_temperament.csv')\n",
    "X = df.iloc[:, 2:-1].fillna(0)  # ویژگی‌های غذایی\n",
    "y = df['Temperament']  # طبع\n",
    "\n",
    "# Normalization\n",
    "X_scaled = StandardScaler().fit_transform(X)\n",
    "\n",
    "# PCA\n",
    "pca = PCA(n_components=2)\n",
    "pca_result = pca.fit_transform(X_scaled)\n",
    "\n",
    "# Visualization\n",
    "plt.figure(figsize=(8, 6))\n",
    "for temperament in y.unique():\n",
    "    mask = y == temperament\n",
    "    plt.scatter(pca_result[mask, 0], pca_result[mask, 1], label=temperament)\n",
    "plt.xlabel('PC1 (34.07%)')\n",
    "plt.ylabel('PC2 (15.63%)')\n",
    "plt.title('PCA of Food Nutrients by Temperament')\n",
    "plt.legend()\n",
    "plt.show()"
   ]
  },
  {
   "cell_type": "code",
   "execution_count": null,
   "id": "9f10bd89-2c94-44a2-bc21-aeb7c07ea035",
   "metadata": {},
   "outputs": [],
   "source": [
    "# PCA with desired number of components\n",
    "\n",
    "pca = PCA(n_components=5)\n",
    "pca_result = pca.fit_transform(X_scaled)\n",
    "print(\"Explained variance ratio for 5 components:\", pca.explained_variance_ratio_)"
   ]
  },
  {
   "cell_type": "code",
   "execution_count": null,
   "id": "a0145efc-d359-4d96-98ca-055e05b994a0",
   "metadata": {},
   "outputs": [],
   "source": [
    "loadings = pd.DataFrame(pca.components_.T, columns=['PC1', 'PC2', 'PC3', 'PC4', 'PC5'], index=df.columns[2:-1])\n",
    "print(\"Component Loadings:\\n\", loadings)"
   ]
  },
  {
   "cell_type": "code",
   "execution_count": null,
   "id": "3a565ba5-50fb-4159-b2d6-0143945bb135",
   "metadata": {},
   "outputs": [],
   "source": []
  }
 ],
 "metadata": {
  "kernelspec": {
   "display_name": "Python [conda env:base] *",
   "language": "python",
   "name": "conda-base-py"
  },
  "language_info": {
   "codemirror_mode": {
    "name": "ipython",
    "version": 3
   },
   "file_extension": ".py",
   "mimetype": "text/x-python",
   "name": "python",
   "nbconvert_exporter": "python",
   "pygments_lexer": "ipython3",
   "version": "3.13.5"
  }
 },
 "nbformat": 4,
 "nbformat_minor": 5
}
